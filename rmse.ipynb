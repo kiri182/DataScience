{
  "nbformat": 4,
  "nbformat_minor": 0,
  "metadata": {
    "colab": {
      "provenance": []
    },
    "kernelspec": {
      "name": "python3",
      "display_name": "Python 3"
    },
    "language_info": {
      "name": "python"
    }
  },
  "cells": [
    {
      "cell_type": "code",
      "execution_count": 8,
      "metadata": {
        "colab": {
          "base_uri": "https://localhost:8080/"
        },
        "id": "a4-oRD__qnHG",
        "outputId": "edf8a026-44ec-4d2c-97a7-cd5539b170e4"
      },
      "outputs": [
        {
          "output_type": "stream",
          "name": "stdout",
          "text": [
            "Case 1: 11.146748404803978\n",
            "Case 2: 0.0\n"
          ]
        }
      ],
      "source": [
        "import numpy as np\n",
        "\n",
        "def rmse(y_t, y_h):\n",
        "  mse = np.power(y_t - y_h, 2).mean()\n",
        "  return np.sqrt(mse)\n",
        "\n",
        "y_t_1 = np.array([10, 13, 22, 52])\n",
        "y_t_2 = np.array([10, 10, 20, 30])\n",
        "y_h = np.array([10, 10, 20, 30])\n",
        "\n",
        "print(f'Case 1: {rmse(y_t_1, y_h)}')\n",
        "print(f'Case 2: {rmse(y_t_2, y_h)}')"
      ]
    },
    {
      "cell_type": "code",
      "source": [
        "from sklearn.metrics import mean_squared_error as lib_mse"
      ],
      "metadata": {
        "id": "jwstL7bguoKJ",
        "colab": {
          "base_uri": "https://localhost:8080/",
          "height": 219
        },
        "outputId": "a6a5dd22-5932-42f0-9371-94a389cbf322"
      },
      "execution_count": 15,
      "outputs": [
        {
          "output_type": "error",
          "ename": "NameError",
          "evalue": "ignored",
          "traceback": [
            "\u001b[0;31m---------------------------------------------------------------------------\u001b[0m",
            "\u001b[0;31mNameError\u001b[0m                                 Traceback (most recent call last)",
            "\u001b[0;32m<ipython-input-15-0a24b937f6e8>\u001b[0m in \u001b[0;36m<cell line: 3>\u001b[0;34m()\u001b[0m\n\u001b[1;32m      1\u001b[0m \u001b[0;32mfrom\u001b[0m \u001b[0msklearn\u001b[0m\u001b[0;34m.\u001b[0m\u001b[0mmetrics\u001b[0m \u001b[0;32mimport\u001b[0m \u001b[0mmean_squared_error\u001b[0m \u001b[0;32mas\u001b[0m \u001b[0mlib_mse\u001b[0m\u001b[0;34m\u001b[0m\u001b[0;34m\u001b[0m\u001b[0m\n\u001b[1;32m      2\u001b[0m \u001b[0;34m\u001b[0m\u001b[0m\n\u001b[0;32m----> 3\u001b[0;31m \u001b[0mlib_rmse\u001b[0m\u001b[0;34m=\u001b[0m\u001b[0mnp\u001b[0m\u001b[0;34m.\u001b[0m\u001b[0msqrt\u001b[0m\u001b[0;34m(\u001b[0m\u001b[0mlib_mse\u001b[0m\u001b[0;34m(\u001b[0m\u001b[0my_t\u001b[0m\u001b[0;34m,\u001b[0m \u001b[0my_h\u001b[0m\u001b[0;34m)\u001b[0m\u001b[0;34m)\u001b[0m\u001b[0;34m\u001b[0m\u001b[0;34m\u001b[0m\u001b[0m\n\u001b[0m",
            "\u001b[0;31mNameError\u001b[0m: name 'y_t' is not defined"
          ]
        }
      ]
    },
    {
      "cell_type": "code",
      "source": [
        "print(f'Case 1: {rmse(y_t_1, y_h)}')\n",
        "print(f'Case 2: {rmse(y_t_2, y_h)}')\n",
        "\n",
        "print(f'Case 1: {np.sqrt(lib_mse(y_t_1, y_h))}')\n",
        "print(f'Case 2: {np.sqrt(lib_mse(y_t_2, y_h))}')"
      ],
      "metadata": {
        "colab": {
          "base_uri": "https://localhost:8080/"
        },
        "id": "52X2Zn-Dtj4w",
        "outputId": "e64af1d4-d991-4c06-a124-f3873d238293"
      },
      "execution_count": 17,
      "outputs": [
        {
          "output_type": "stream",
          "name": "stdout",
          "text": [
            "Case 1: 11.146748404803978\n",
            "Case 2: 0.0\n",
            "Case 1: 11.146748404803978\n",
            "Case 2: 0.0\n"
          ]
        }
      ]
    },
    {
      "cell_type": "code",
      "source": [],
      "metadata": {
        "id": "xHkygQE2tvgO"
      },
      "execution_count": null,
      "outputs": []
    }
  ]
}