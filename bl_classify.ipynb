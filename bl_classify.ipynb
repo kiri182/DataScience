{
  "nbformat": 4,
  "nbformat_minor": 0,
  "metadata": {
    "colab": {
      "provenance": []
    },
    "kernelspec": {
      "name": "python3",
      "display_name": "Python 3"
    },
    "language_info": {
      "name": "python"
    }
  },
  "cells": [
    {
      "cell_type": "code",
      "execution_count": null,
      "metadata": {
        "id": "6HpFvZCEq88x"
      },
      "outputs": [],
      "source": [
        "import pandas as pd\n",
        "\n",
        "#現在の最大表示列数の出力\n",
        "pd.get_option(\"display.max_columns\")\n",
        "\n",
        "#最大表示列数の指定（ここでは50列を指定）\n",
        "pd.set_option('display.max_columns', 50)"
      ]
    },
    {
      "cell_type": "code",
      "source": [
        "file_path = 'input.csv'\n",
        "master_df = pd.read_csv(file_path)\n",
        "df = master_df.copy()\n",
        "df"
      ],
      "metadata": {
        "id": "hGvTakg3rMU5"
      },
      "execution_count": null,
      "outputs": []
    },
    {
      "cell_type": "code",
      "source": [
        "def classify_record(row):\n",
        "    issue_type = row[\"Issue Type\"]\n",
        "    comments = [row[f\"Comment{i}\"] for i in range(1, 25) if not pd.isna(row[f\"Comment{i}\"])]  # 欠損値でないComment列のみ\n",
        "\n",
        "    # Issue Typeが \"AAAA\"、\"BBBB\"、またはそれらを含む文字列で、かつComment列に \"CCCC\" または \"DDDD\" が含まれていない場合、\"routine\"と判断\n",
        "    if any(issue_type.startswith(prefix) for prefix in [\"AAAA\", \"BBBB\"]) and not any(\"CCCC\" in comment or \"DDDD\" in comment for comment in comments):\n",
        "        return \"routine\"\n",
        "    else:\n",
        "        return \"non-routine\""
      ],
      "metadata": {
        "id": "d7V_J9p_yyxD"
      },
      "execution_count": null,
      "outputs": []
    },
    {
      "cell_type": "code",
      "source": [
        "df[\"Type\"] = df.apply(classify_record, axis=1)"
      ],
      "metadata": {
        "id": "KXiBSQcxxI4J"
      },
      "execution_count": null,
      "outputs": []
    },
    {
      "cell_type": "code",
      "source": [
        "df"
      ],
      "metadata": {
        "id": "GnfGBiA1xcK1"
      },
      "execution_count": null,
      "outputs": []
    },
    {
      "cell_type": "code",
      "source": [
        "import matplotlib.pyplot as plt\n",
        "\n",
        "routine_issue_counts = df[df[\"Type\"] == \"routine\"][\"Issue Type\"].value_counts()\n",
        "non_routine_issue_counts = df[df[\"Type\"] == \"non-routine\"][\"Issue Type\"].value_counts()\n",
        "\n",
        "plt.figure(figsize=(10, 6))\n",
        "\n",
        "# \"routine\"のIssue Type内訳を横棒グラフで表示\n",
        "plt.subplot(1, 2, 1)\n",
        "routine_issue_counts.plot(kind='barh')\n",
        "plt.title('Routine - Issue Type Count')\n",
        "plt.xlabel('Count')\n",
        "plt.ylabel('Issue Type')\n",
        "\n",
        "# データポイントを表示\n",
        "for i, count in enumerate(routine_issue_counts):\n",
        "    plt.text(count, i, str(count), va='center', fontsize=12, color='black')\n",
        "\n",
        "# \"non-routine\"のIssue Type内訳を横棒グラフで表示\n",
        "plt.subplot(1, 2, 2)\n",
        "non_routine_issue_counts.plot(kind='barh')\n",
        "plt.title('Non-routine - Issue Type Count')\n",
        "plt.xlabel('Count')\n",
        "plt.ylabel('Issue Type')\n",
        "\n",
        "# データポイントを表示\n",
        "for i, count in enumerate(non_routine_issue_counts):\n",
        "    plt.text(count, i, str(count), va='center', fontsize=12, color='black')\n",
        "\n",
        "plt.tight_layout()\n",
        "plt.show()\n"
      ],
      "metadata": {
        "id": "KRjKFffAyENQ"
      },
      "execution_count": null,
      "outputs": []
    },
    {
      "cell_type": "code",
      "source": [
        "df[(df['Type']=='non-routine') & (df['Issue Type']=='WhiteListing IN')]"
      ],
      "metadata": {
        "id": "D6xvG88Zy1a7"
      },
      "execution_count": null,
      "outputs": []
    },
    {
      "cell_type": "code",
      "source": [
        "# \"routine\" と \"non-routine\" ごとに \"Actual Hours\" のヒストグラムを作成\n",
        "plt.figure(figsize=(10, 6))\n",
        "\n",
        "n, bins, patches = plt.hist([df[df[\"Type\"] == \"routine\"][\"Actual Hours\"].values, df[df[\"Type\"] == \"non-routine\"][\"Actual Hours\"].values],\n",
        "         bins=30, alpha=0.7, label=[\"routine\", \"non-routine\"])\n",
        "\n",
        "plt.title(\"Actual Hours: routine vs. non-routine(bins=30)\")\n",
        "plt.xlabel(\"Actual Hours\")\n",
        "plt.ylabel(\"Count\")\n",
        "plt.legend()\n",
        "\n",
        "# 各バーの上にデータポイントを表示\n",
        "for i in range(len(patches[0])):\n",
        "    x_routine = patches[0][i].get_x() + 0.5 * patches[0][i].get_width()\n",
        "    y_routine = n[0][i]\n",
        "    x_non_routine = patches[1][i].get_x() + 0.5 * patches[1][i].get_width()\n",
        "    y_non_routine = n[1][i]\n",
        "\n",
        "    plt.annotate(f\"{int(y_routine)}\", (x_routine, y_routine), ha=\"center\", va=\"bottom\")\n",
        "    plt.annotate(f\"{int(y_non_routine)}\", (x_non_routine, y_non_routine), ha=\"center\", va=\"bottom\")\n",
        "\n",
        "\n",
        "plt.tight_layout()\n",
        "plt.show()"
      ],
      "metadata": {
        "id": "V_XKgPiFzn5c"
      },
      "execution_count": null,
      "outputs": []
    },
    {
      "cell_type": "code",
      "source": [
        "df.to_csv('output.csv', index=False)"
      ],
      "metadata": {
        "id": "qzwi-d6l_w2h"
      },
      "execution_count": null,
      "outputs": []
    },
    {
      "cell_type": "code",
      "source": [],
      "metadata": {
        "id": "bEkrVXKk_0S_"
      },
      "execution_count": null,
      "outputs": []
    }
  ]
}