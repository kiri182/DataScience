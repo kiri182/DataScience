{
  "nbformat": 4,
  "nbformat_minor": 0,
  "metadata": {
    "colab": {
      "provenance": []
    },
    "kernelspec": {
      "name": "python3",
      "display_name": "Python 3"
    },
    "language_info": {
      "name": "python"
    }
  },
  "cells": [
    {
      "cell_type": "code",
      "source": [
        "from textblob import TextBlob\n",
        "import pandas as pd\n",
        "import nltk\n",
        "nltk.download('punkt')"
      ],
      "metadata": {
        "id": "mmp9CcN1lDIk"
      },
      "execution_count": null,
      "outputs": []
    },
    {
      "cell_type": "code",
      "source": [
        "file_path = 'sep2022_updated.csv'\n",
        "master_df = pd.read_csv(file_path)\n",
        "df = master_df.copy()\n",
        "df"
      ],
      "metadata": {
        "id": "7VdADc4w3tOs"
      },
      "execution_count": null,
      "outputs": []
    },
    {
      "cell_type": "code",
      "source": [
        "replacement_value = 'n/a'\n",
        "\n",
        "for col in df.columns:\n",
        "  if col.startswith('Comment'):\n",
        "    df[col] = df[col].fillna(replacement_value)\n",
        "\n",
        "df"
      ],
      "metadata": {
        "id": "EqVJJmVs91PZ"
      },
      "execution_count": null,
      "outputs": []
    },
    {
      "cell_type": "code",
      "source": [
        "def preprocess_text(text):\n",
        "    if isinstance(text, str):\n",
        "        text = text.lower()\n",
        "        words = nltk.word_tokenize(text)\n",
        "        return words\n",
        "    else:\n",
        "        return []\n",
        "\n",
        "df['y'] = df['y'].apply(preprocess_text)\n",
        "df['z'] = df['z'].apply(preprocess_text)\n",
        "df['aa'] = df['aa'].apply(preprocess_text)\n",
        "\n",
        "df"
      ],
      "metadata": {
        "id": "tfzA-Xvi4Cn8"
      },
      "execution_count": null,
      "outputs": []
    },
    {
      "cell_type": "code",
      "source": [
        "from wordcloud import WordCloud\n",
        "import matplotlib.pyplot as plt\n",
        "\n",
        "def clean_text(text):\n",
        "    if isinstance(text, str):\n",
        "        return text\n",
        "    else:\n",
        "        return \"\"\n",
        "\n",
        "cleaned_text_y = df['y'].explode().apply(clean_text)\n",
        "cleaned_text_z = df['z'].explode().apply(clean_text)\n",
        "cleaned_text_aa = df['aa'].explode().apply(clean_text)\n",
        "\n",
        "wordcloud_y = WordCloud(width=800, height=600, background_color='white').generate(' '.join(cleaned_text_y))\n",
        "wordcloud_z = WordCloud(width=800, height=600, background_color='white').generate(' '.join(cleaned_text_z))\n",
        "wordcloud_aa = WordCloud(width=800, height=600, background_color='white').generate(' '.join(cleaned_text_aa))\n",
        "\n",
        "plt.figure(figsize=(30, 15))\n",
        "\n",
        "plt.subplot(131)  # 1行3列の1番目のプロット\n",
        "plt.imshow(wordcloud_y, interpolation='bilinear')\n",
        "plt.axis('off')\n",
        "plt.title('Word Cloud - y')\n",
        "\n",
        "plt.subplot(132)  # 1行3列の2番目のプロット\n",
        "plt.imshow(wordcloud_z, interpolation='bilinear')\n",
        "plt.axis('off')\n",
        "plt.title('Word Cloud - z')\n",
        "\n",
        "plt.subplot(133)  # 1行3列の3番目のプロット\n",
        "plt.imshow(wordcloud_aa, interpolation='bilinear')\n",
        "plt.axis('off')\n",
        "plt.title('Word Cloud - aa')\n",
        "plt.show()\n"
      ],
      "metadata": {
        "id": "GPHpYJp_4id1"
      },
      "execution_count": null,
      "outputs": []
    },
    {
      "cell_type": "code",
      "source": [
        "nltk.download('stopwords')\n",
        "lst_stopwords = nltk.corpus.stopwords.words(\"english\")\n",
        "\n",
        "df_clean = df.copy()\n",
        "\n",
        "for column in ['y', 'z', 'aa']:\n",
        "    df_clean[column] = df_clean[column].apply(lambda x: ' '.join([word for word in x if word not in lst_stopwords]))\n",
        "\n",
        "display(df.head(10))\n",
        "display(df_clean.head(10))"
      ],
      "metadata": {
        "id": "Ma5aCNbPAFrA"
      },
      "execution_count": null,
      "outputs": []
    },
    {
      "cell_type": "code",
      "source": [
        "def preprocess_text(text):\n",
        "    if isinstance(text, str):\n",
        "        text = text.lower()\n",
        "        words = nltk.word_tokenize(text)\n",
        "        return words\n",
        "    else:\n",
        "        return []\n",
        "\n",
        "df_clean['y'] = df_clean['y'].apply(preprocess_text)\n",
        "df_clean['z'] = df_clean['z'].apply(preprocess_text)\n",
        "df_clean['aa'] = df_clean['aa'].apply(preprocess_text)\n",
        "\n",
        "def clean_text(text):\n",
        "    if isinstance(text, str):\n",
        "        return text\n",
        "    else:\n",
        "        return \"\"\n",
        "\n",
        "cleaned_text_y_new = df_clean['y'].explode().apply(clean_text)\n",
        "cleaned_text_z_new = df_clean['z'].explode().apply(clean_text)\n",
        "cleaned_text_aa_new = df_clean['aa'].explode().apply(clean_text)\n",
        "\n",
        "wordcloud_y_new = WordCloud(width=800, height=600, background_color='white').generate(' '.join(cleaned_text_y_new))\n",
        "wordcloud_z_new = WordCloud(width=800, height=600, background_color='white').generate(' '.join(cleaned_text_z_new))\n",
        "wordcloud_aa_new = WordCloud(width=800, height=600, background_color='white').generate(' '.join(cleaned_text_aa_new))\n",
        "\n",
        "plt.figure(figsize=(30, 15))\n",
        "\n",
        "plt.subplot(131)  # 1行3列の1番目のプロット\n",
        "plt.imshow(wordcloud_y_new, interpolation='bilinear')\n",
        "plt.axis('off')\n",
        "plt.title('Word Cloud - y stopword')\n",
        "\n",
        "plt.subplot(132)  # 1行3列の2番目のプロット\n",
        "plt.imshow(wordcloud_z_new, interpolation='bilinear')\n",
        "plt.axis('off')\n",
        "plt.title('Word Cloud - z stopword')\n",
        "\n",
        "plt.subplot(133)  # 1行3列の3番目のプロット\n",
        "plt.imshow(wordcloud_aa_new, interpolation='bilinear')\n",
        "plt.axis('off')\n",
        "plt.title('Word Cloud - aa stopword')\n",
        "plt.show()"
      ],
      "metadata": {
        "id": "xyjx-v-2B--C"
      },
      "execution_count": null,
      "outputs": []
    },
    {
      "cell_type": "code",
      "source": [
        "nltk.download('vader_lexicon')\n",
        "from nltk.sentiment.vader import SentimentIntensityAnalyzer"
      ],
      "metadata": {
        "id": "33XOaOx5_NNo"
      },
      "execution_count": null,
      "outputs": []
    },
    {
      "cell_type": "code",
      "source": [
        "df_clean"
      ],
      "metadata": {
        "id": "tMX2TWRmDdNU"
      },
      "execution_count": null,
      "outputs": []
    },
    {
      "cell_type": "code",
      "source": [
        "df_clean[\"y_sentiment\"] = df_clean[\"y\"].apply(lambda x: TextBlob(' '.join(x)).sentiment.polarity)\n",
        "df_clean[\"z_sentiment\"] = df_clean[\"z\"].apply(lambda x: TextBlob(' '.join(x)).sentiment.polarity)\n",
        "df_clean[\"aa_sentiment\"] = df_clean[\"aa\"].apply(lambda x: TextBlob(' '.join(x)).sentiment.polarity)\n",
        "\n",
        "display(df_clean.head(10))"
      ],
      "metadata": {
        "id": "H0_T2nUVDX6-"
      },
      "execution_count": null,
      "outputs": []
    },
    {
      "cell_type": "code",
      "source": [
        "df[\"y_sentiment\"] = df[\"y\"].apply(lambda x: TextBlob(' '.join(x)).sentiment.polarity)\n",
        "df[\"z_sentiment\"] = df[\"z\"].apply(lambda x: TextBlob(' '.join(x)).sentiment.polarity)\n",
        "df[\"aa_sentiment\"] = df[\"aa\"].apply(lambda x: TextBlob(' '.join(x)).sentiment.polarity)\n",
        "\n",
        "display(df.head(10))"
      ],
      "metadata": {
        "id": "1xyAJACgEEnb"
      },
      "execution_count": null,
      "outputs": []
    },
    {
      "cell_type": "code",
      "source": [
        "df.to_csv('output.csv', index=False)\n",
        "df_clean.to_csv('output_clean.csv', index=False)"
      ],
      "metadata": {
        "id": "z3Iln1K0EmSw"
      },
      "execution_count": null,
      "outputs": []
    },
    {
      "cell_type": "code",
      "source": [],
      "metadata": {
        "id": "dZupj7S9FstT"
      },
      "execution_count": null,
      "outputs": []
    }
  ]
}