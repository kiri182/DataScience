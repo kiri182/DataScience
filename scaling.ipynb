{
  "nbformat": 4,
  "nbformat_minor": 0,
  "metadata": {
    "colab": {
      "provenance": []
    },
    "kernelspec": {
      "name": "python3",
      "display_name": "Python 3"
    },
    "language_info": {
      "name": "python"
    }
  },
  "cells": [
    {
      "cell_type": "code",
      "execution_count": 41,
      "metadata": {
        "id": "GvALVOyotejy"
      },
      "outputs": [],
      "source": [
        "from sklearn import preprocessing\n",
        "from datetime import date, timedelta\n",
        "import matplotlib.pyplot as plt"
      ]
    },
    {
      "cell_type": "code",
      "source": [
        "# scikit-learn\n",
        "# 正規化\n",
        "\n",
        "#1-D list\n",
        "l = [0, 1, 2, 3, 4]\n",
        "\n",
        "#2-D list\n",
        "l_2d = [\n",
        "    [0, 1, 2],\n",
        "    [3, 4, 5],\n",
        "    [6, 7, 8]\n",
        "    ]\n",
        "\n",
        "l_2d"
      ],
      "metadata": {
        "colab": {
          "base_uri": "https://localhost:8080/"
        },
        "id": "m7_OwQIJtwsV",
        "outputId": "11c20eb3-27f8-4b1c-f0c8-cb1ef0239f41"
      },
      "execution_count": 42,
      "outputs": [
        {
          "output_type": "execute_result",
          "data": {
            "text/plain": [
              "[[0, 1, 2], [3, 4, 5], [6, 7, 8]]"
            ]
          },
          "metadata": {},
          "execution_count": 42
        }
      ]
    },
    {
      "cell_type": "code",
      "source": [
        "#インスタンスを生成してからfit_transform()メソッドを使う。正規化されたnumpy.ndarrayが返る。\n",
        "#MinMaxScalerクラスでは一次元配列は処理されず、二次元配列のみが対象。列ごとに正規化され、行ごとや全体に対する処理はできない。\n",
        "\n",
        "mm = MinMaxScaler()\n",
        "\n",
        "l_2d_min_max = mm.fit_transform(l_2d)\n",
        "\n",
        "l_2d_min_max"
      ],
      "metadata": {
        "colab": {
          "base_uri": "https://localhost:8080/"
        },
        "id": "KDj-8pJhuda2",
        "outputId": "dd180173-88e2-43cb-fa65-1711d8c0158b"
      },
      "execution_count": 43,
      "outputs": [
        {
          "output_type": "execute_result",
          "data": {
            "text/plain": [
              "array([[0. , 0. , 0. ],\n",
              "       [0.5, 0.5, 0.5],\n",
              "       [1. , 1. , 1. ]])"
            ]
          },
          "metadata": {},
          "execution_count": 43
        }
      ]
    },
    {
      "cell_type": "code",
      "source": [
        "#直接処理するminmax_scale()関数もある。\n",
        "#こちらは一次元配列も処理可能。また、二次元配列に対して引数axis=1とすると行ごとの処理となる。全体に対する処理はできない。\n",
        "\n",
        "print(preprocessing.minmax_scale(l))\n",
        "print(preprocessing.minmax_scale(l_2d))\n",
        "print(preprocessing.minmax_scale(l_2d, axis=1))"
      ],
      "metadata": {
        "colab": {
          "base_uri": "https://localhost:8080/"
        },
        "id": "bMVNrPhE3HTY",
        "outputId": "6dfe3f55-33d9-4391-dfec-2831a1d33be5"
      },
      "execution_count": 44,
      "outputs": [
        {
          "output_type": "stream",
          "name": "stdout",
          "text": [
            "[0.   0.25 0.5  0.75 1.  ]\n",
            "[[0.  0.  0. ]\n",
            " [0.5 0.5 0.5]\n",
            " [1.  1.  1. ]]\n",
            "[[0.  0.5 1. ]\n",
            " [0.  0.5 1. ]\n",
            " [0.  0.5 1. ]]\n"
          ]
        }
      ]
    },
    {
      "cell_type": "code",
      "source": [
        "#標準化\n",
        "#平均0、分散1に正規化（標準化）するにはStandardScalerクラスまたはscale()関数を使う。\n",
        "#使い方および制限は上述のMinMaxScalerクラス、minmax_scale()関数と同じ。\n",
        "\n",
        "ss = preprocessing.StandardScaler()\n",
        "\n",
        "l_2d_standardization = ss.fit_transform(l_2d)\n",
        "\n",
        "l_2d_standardization"
      ],
      "metadata": {
        "colab": {
          "base_uri": "https://localhost:8080/"
        },
        "id": "S5DXWpuL6-FM",
        "outputId": "1fd70c46-d138-450f-e2a0-77d259f65208"
      },
      "execution_count": 48,
      "outputs": [
        {
          "output_type": "execute_result",
          "data": {
            "text/plain": [
              "array([[-1.22474487, -1.22474487, -1.22474487],\n",
              "       [ 0.        ,  0.        ,  0.        ],\n",
              "       [ 1.22474487,  1.22474487,  1.22474487]])"
            ]
          },
          "metadata": {},
          "execution_count": 48
        }
      ]
    },
    {
      "cell_type": "code",
      "source": [
        "print(preprocessing.scale(l))\n",
        "print(preprocessing.scale(l_2d))\n",
        "print(preprocessing.scale(l_2d, axis=1))"
      ],
      "metadata": {
        "colab": {
          "base_uri": "https://localhost:8080/"
        },
        "id": "TedORb-M7_NC",
        "outputId": "d87dd9f6-07a6-4a16-b142-bc9df66a044c"
      },
      "execution_count": 49,
      "outputs": [
        {
          "output_type": "stream",
          "name": "stdout",
          "text": [
            "[-1.41421356 -0.70710678  0.          0.70710678  1.41421356]\n",
            "[[-1.22474487 -1.22474487 -1.22474487]\n",
            " [ 0.          0.          0.        ]\n",
            " [ 1.22474487  1.22474487  1.22474487]]\n",
            "[[-1.22474487  0.          1.22474487]\n",
            " [-1.22474487  0.          1.22474487]\n",
            " [-1.22474487  0.          1.22474487]]\n"
          ]
        }
      ]
    },
    {
      "cell_type": "code",
      "source": [],
      "metadata": {
        "id": "NeKuBguf8WxA"
      },
      "execution_count": null,
      "outputs": []
    }
  ]
}